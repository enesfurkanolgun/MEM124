{
 "cells": [
  {
   "cell_type": "code",
   "execution_count": 1,
   "metadata": {},
   "outputs": [
    {
     "name": "stdout",
     "output_type": "stream",
     "text": [
      "Kök hesaplama programına hoşgeldiniz!\n",
      "--İki bilinmeyenli denklem kökü--\n",
      "Denkleminiz(ax**2+b*x+c)şeklinde olmalıdır\n",
      "A değerini giriniz:5\n",
      "B değerini giriniz:4\n",
      "C değerini giriniz3\n",
      "Reel kök yoktur...\n",
      "İyi çalışmalar dileriz\n"
     ]
    }
   ],
   "source": [
    "print(\"Kök hesaplama programına hoşgeldiniz!\")\n",
    "print(\"--İki bilinmeyenli denklem kökü--\")\n",
    "print(\"Denkleminiz(ax**2+b*x+c)şeklinde olmalıdır\")\n",
    "a=int(input(\"A değerini giriniz:\"))\n",
    "b=int(input(\"B değerini giriniz:\"))\n",
    "c=int(input(\"C değerini giriniz\"))\n",
    "delta=b**2-4*a*c\n",
    "x1=(-b-delta**0.5)/(2*a)\n",
    "x2=(-b+delta**0.5)/(2*a)\n",
    "if delta<0:\n",
    "    print(\"Reel kök yoktur...\")\n",
    "if delta==0:\n",
    "    print(\"Çakışık iki kök vardır...\")\n",
    "    print(\"Denkleminizin birinci kökü:{}\\n Denkleminizin ikinci kökü:{}\\n\".format(x1,x2))\n",
    "if delta>0:\n",
    "    print(\"Gerçek iki kök vardır...\")\n",
    "    print(\"Denkleminizin birinci kökü:{}\\n Denkleminizin ikinci kökü:{}\\n\".format(x1,x2))\n",
    "    \n",
    "print(\"İyi çalışmalar dileriz\")"
   ]
  },
  {
   "cell_type": "code",
   "execution_count": null,
   "metadata": {},
   "outputs": [],
   "source": []
  }
 ],
 "metadata": {
  "kernelspec": {
   "display_name": "Python 3",
   "language": "python",
   "name": "python3"
  },
  "language_info": {
   "codemirror_mode": {
    "name": "ipython",
    "version": 3
   },
   "file_extension": ".py",
   "mimetype": "text/x-python",
   "name": "python",
   "nbconvert_exporter": "python",
   "pygments_lexer": "ipython3",
   "version": "3.7.4"
  }
 },
 "nbformat": 4,
 "nbformat_minor": 2
}
