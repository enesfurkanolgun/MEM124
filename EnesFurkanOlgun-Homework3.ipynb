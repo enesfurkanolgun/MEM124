{
 "cells": [
  {
   "cell_type": "code",
   "execution_count": null,
   "metadata": {},
   "outputs": [],
   "source": [
    "x=int(input(\"Lütfen 1,2,3 rakamlarından birisini seçiniz:\\n\"))\n",
    "if x>3 or x<1:\n",
    "    print(\"Lütfen programı yeniden başlatınız!\")\n",
    "elif x==1:\n",
    "    print(\"1.seçeneği seçtiniz , üçgenin hipotenüsü hesaplanacak.\")\n",
    "    a=int(input(\"A kenarının ölçüsü:\"))\n",
    "    b=int(input(\"B kenarının ölçüsü:\"))\n",
    "    c=(a**2+b**2)**0.5\n",
    "    print(\"Hipotenüs:\",c)\n",
    "    \n",
    "elif x==2:\n",
    "    z=int(input(\"Sayı giriniz\"))\n",
    "    i=0\n",
    "    while i<z:\n",
    "        i+=1\n",
    "        print(i)\n",
    "        \n",
    "elif x==3:\n",
    "    print(\"Gireceğiniz 6 numaranın aritmetik ortalaması hesaplanacak.\")\n",
    "    numara1=int(input(\"1.numarayı giriniz:\"))\n",
    "    numara2=int(input(\"2.numarayı giriniz:\"))\n",
    "    numara3=int(input(\"3.numarayı giriniz:\"))\n",
    "    numara4=int(input(\"4.numarayı giriniz:\"))\n",
    "    numara5=int(input(\"5.numarayı giriniz:\"))\n",
    "    numara6=int(input(\"6.numarayı giriniz:\"))\n",
    "    print(\"Girilen numaralar:\",numara1,numara2,numara3,numara4,numara5,numara6)\n",
    "    sayıların_aritmetik_sonucu=(numara1+numara2+numara3+numara4+numara5+numara6)/6\n",
    "    print(\"Numaralarınızın aritmetik ortalaması:\",sayıların_aritmetik_sonucu)"
   ]
  },
  {
   "cell_type": "code",
   "execution_count": null,
   "metadata": {},
   "outputs": [],
   "source": []
  }
 ],
 "metadata": {
  "kernelspec": {
   "display_name": "Python 3",
   "language": "python",
   "name": "python3"
  },
  "language_info": {
   "codemirror_mode": {
    "name": "ipython",
    "version": 3
   },
   "file_extension": ".py",
   "mimetype": "text/x-python",
   "name": "python",
   "nbconvert_exporter": "python",
   "pygments_lexer": "ipython3",
   "version": "3.7.4"
  }
 },
 "nbformat": 4,
 "nbformat_minor": 2
}
